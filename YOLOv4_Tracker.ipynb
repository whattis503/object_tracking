{
  "nbformat": 4,
  "nbformat_minor": 0,
  "metadata": {
    "colab": {
      "name": "YOLOv4_Tracker.ipynb",
      "private_outputs": true,
      "provenance": [],
      "collapsed_sections": []
    },
    "kernelspec": {
      "name": "python3",
      "display_name": "Python 3"
    },
    "accelerator": "GPU"
  },
  "cells": [
    {
      "cell_type": "markdown",
      "metadata": {
        "id": "5xPBlGu0p8ic"
      },
      "source": [
        "# Running DeepSort Object Tracking with YOLO Object Detections in Google Colab!\n"
      ]
    },
    {
      "cell_type": "markdown",
      "metadata": {
        "id": "-uHYg5Jagyw4"
      },
      "source": [
        "# Step 1: Enabling GPU within your notebook"
      ]
    },
    {
      "cell_type": "markdown",
      "metadata": {
        "id": "Os_Uqud1q1Fa"
      },
      "source": [
        "## Step 2: Cloning the Repository\n",
        "The following cell will clone the yolov4-deepsort repository from github, to enable the rest of the tutorial and grab the code."
      ]
    },
    {
      "cell_type": "code",
      "metadata": {
        "id": "_MW-p089pqYd"
      },
      "source": [
        "# clone repository for deepsort with yolov4\n",
        "!git clone https://github.com/theAIGuysCode/yolov4-deepsort"
      ],
      "execution_count": null,
      "outputs": []
    },
    {
      "cell_type": "code",
      "metadata": {
        "id": "jaWKeglDrPfc"
      },
      "source": [
        "# step into the yolov4-deepsort folder\n",
        "%cd yolov4-deepsort/"
      ],
      "execution_count": null,
      "outputs": []
    },
    {
      "cell_type": "markdown",
      "metadata": {
        "id": "xb34ZSQTuC0-"
      },
      "source": [
        "## Step 3: Install Dependencies\n",
        "본 폴더의 프로그램들은 파이썬 3.7버전, 그리고 tensorflow2.3버전을 필요로 한다.\n",
        "2021.8월 현재 코랩의 파이썬은 3.7버전을 사용중이나, tensorflow는 2.5버전을 사용중이므로 오류가 난다. 따라서 tensorflow를 업데이트 해줘야 한다. 파이썬 버전에 따라 다운로드 받을 수 있는 tensorflow가 제한되므로, 파이썬의 버전확인 및 업데이트가 텐서플로우 업데이트 보다 선행되어야 한다."
      ]
    },
    {
      "cell_type": "code",
      "metadata": {
        "id": "hsmiN0sq--QO"
      },
      "source": [
        "!python --version"
      ],
      "execution_count": null,
      "outputs": []
    },
    {
      "cell_type": "code",
      "metadata": {
        "id": "uI6aXolQnru3"
      },
      "source": [
        "#현재 구글 코랩의 다운로드 된 패키지(라이브러리) 리스트 출력\n",
        "!pip freeze"
      ],
      "execution_count": null,
      "outputs": []
    },
    {
      "cell_type": "code",
      "metadata": {
        "id": "Z0F-bzN_okmq"
      },
      "source": [
        "#현재(2021.8.20) 코랩 환경에서는 tensorflow 2.5.0을 사용중인데, 아래의 버전을 사용해야 오류가 없다.\n",
        "!pip install tensorflow==2.3.0rc0"
      ],
      "execution_count": null,
      "outputs": []
    },
    {
      "cell_type": "markdown",
      "metadata": {
        "id": "SzoF4_rov7qy"
      },
      "source": [
        "## Step 4: Get YOLOv4 Pre-trained Weights\n",
        "For this tutorial we will be using the pre-trained YOLOv4 model, trained on over 80 classes."
      ]
    },
    {
      "cell_type": "markdown",
      "metadata": {
        "id": "wTu2CkOcXDpW"
      },
      "source": [
        "(선택1) custom model로 하려면.."
      ]
    },
    {
      "cell_type": "code",
      "metadata": {
        "id": "J4NH1E3IOHN4"
      },
      "source": [
        "from google.colab import drive\n",
        "drive.mount('/content/gdrive')"
      ],
      "execution_count": null,
      "outputs": []
    },
    {
      "cell_type": "code",
      "metadata": {
        "id": "myuoTi0yOj47"
      },
      "source": [
        "#names 파일, weight파일, 동영상파일을 내 드라이브로 부터 현재 디렉토리로 복사\n",
        "!cp /content/gdrive/Shareddrives/PHASOR/2팀/YOLOv4_ObjTrack/obj.names data/classes\n",
        "!cp /content/gdrive/Shareddrives/PHASOR/2팀/YOLOv4_ObjTrack/pothole.mp4 data/video \n",
        "!cp /content/gdrive/Shareddrives/PHASOR/2팀/YOLOv4_ObjTrack/yolov4-obj_last.weights data"
      ],
      "execution_count": null,
      "outputs": []
    },
    {
      "cell_type": "markdown",
      "metadata": {
        "id": "bnxZjhrBXM84"
      },
      "source": [
        "(선택2) Pretrained model로 하려면..."
      ]
    },
    {
      "cell_type": "code",
      "metadata": {
        "id": "ekABuSaov2xC"
      },
      "source": [
        "# download yolov4 model weights to data folder\n",
        "!wget https://github.com/AlexeyAB/darknet/releases/download/darknet_yolo_v3_optimal/yolov4.weights -P data/"
      ],
      "execution_count": null,
      "outputs": []
    },
    {
      "cell_type": "markdown",
      "metadata": {
        "id": "uDETmoafxgAg"
      },
      "source": [
        "## Step 5: Convert YOLOv4 Darknet Weights to TensorFlow model\n"
      ]
    },
    {
      "cell_type": "markdown",
      "metadata": {
        "id": "4ACIsnpBZl8o"
      },
      "source": [
        "# Custom Model로 하려면...\n",
        "\n",
        "**현재 디렉토리(yolov4-deepsort)안에**\n",
        "\n",
        "\n",
        "\n",
        "\n",
        "save_model.py파일을 열고\n",
        "\n",
        "flags.DEFINE_string('weights', './data/yolov4.weights', 'path to weights file')\n",
        "\n",
        "을\n",
        "\n",
        "flags.DEFINE_string('weights', './data/yolov4-obj_last.weights', 'path to weights file')\n",
        "\n",
        "로 바꿔 주세요. 그리고\n",
        "\n",
        "core/config.py 파일을 열고\n",
        "\n",
        "\n",
        "__C.YOLO.CLASSES              = \"./data/classes/coco.names\"\n",
        "\n",
        "을\n",
        "\n",
        "__C.YOLO.CLASSES              = \"./data/classes/obj.names\"\n",
        "\n",
        "로 바꿔주세요\n"
      ]
    },
    {
      "cell_type": "markdown",
      "metadata": {
        "id": "ez6DqxRqXsPz"
      },
      "source": [
        "pretrained 혹은 custom model에 따라 model을 python 코드로 변형 해줍니다"
      ]
    },
    {
      "cell_type": "code",
      "metadata": {
        "id": "twV0dpNIw4lQ"
      },
      "source": [
        "# Convert darknet weights to tensorflow model\n",
        "!python save_model.py --model yolov4"
      ],
      "execution_count": null,
      "outputs": []
    },
    {
      "cell_type": "markdown",
      "metadata": {
        "id": "oP5I2_qMM4uJ"
      },
      "source": [
        "## Step 6: Running DeepSort with YOLOv4\n",
        "\n",
        "Let the fun begin! You can now run your object tracker. Unfortunately Google Colab doesn't support displaying video while its being processed. So we will be suppressing the output of the object tracker as it runs and then we will display the entire video once it has finished processing."
      ]
    },
    {
      "cell_type": "markdown",
      "metadata": {
        "id": "qyXo2fLBZQ6e"
      },
      "source": [
        "테스트 할 비디오를 ./data/video/ 에 넣고 아래의 코드를 수정할 필요가 있음."
      ]
    },
    {
      "cell_type": "code",
      "metadata": {
        "id": "i4Xok1pDxIkQ"
      },
      "source": [
        "# run DeepSort with YOLOv4 Object Detections as backbone (enable --info flag to see info about tracked objects)\n",
        "!python object_tracker.py --video ./data/video/pothole.mp4 --output ./outputs/tracker.avi --model yolov4 --dont_show --info\n",
        "# Run yolov4 deep sort object tracker on webcam (set video flag to 0)"
      ],
      "execution_count": null,
      "outputs": []
    },
    {
      "cell_type": "code",
      "metadata": {
        "id": "rJHEJP54B2-4"
      },
      "source": [
        "# define helper function to display videos\n",
        "import io \n",
        "from IPython.display import HTML\n",
        "from base64 import b64encode\n",
        "def show_video(file_name, width=640):\n",
        "  mp4 = open(file_name,'rb').read()\n",
        "  data_url = \"data:video/mp4;base64,\" + b64encode(mp4).decode()\n",
        "  return HTML(\"\"\"\n",
        "  <video width=\"{0}\" controls>\n",
        "        <source src=\"{1}\" type=\"video/mp4\">\n",
        "  </video>\n",
        "  \"\"\".format(width, data_url))"
      ],
      "execution_count": null,
      "outputs": []
    },
    {
      "cell_type": "code",
      "metadata": {
        "id": "sy8xXTnH81Hb"
      },
      "source": [
        "# convert resulting video from avi to mp4 file format\n",
        "import os\n",
        "%cd outputs/\n",
        "!ffmpeg -y -loglevel panic -i tracker.avi output.mp4\n",
        "%cd .."
      ],
      "execution_count": null,
      "outputs": []
    },
    {
      "cell_type": "code",
      "metadata": {
        "id": "5FXmj1Gb8nvB"
      },
      "source": [
        "show_video(\"outputs/output.mp4\", width=960)"
      ],
      "execution_count": null,
      "outputs": []
    },
    {
      "cell_type": "markdown",
      "metadata": {
        "id": "GLs3KTd2Yp1v"
      },
      "source": [
        "\n",
        "# 끝\n",
        "\n",
        "\n",
        "\n",
        "\n",
        "\n"
      ]
    },
    {
      "cell_type": "markdown",
      "metadata": {
        "id": "-maui6xmTBbf"
      },
      "source": [
        "## Bonus: 80개중 일부만 감지하고 싶다면?\n",
        "\n",
        "\n",
        "You may not want to run your object tracker on all 80+ classes that the pre-trained YOLOv4 model is trained on. We can edit a couple lines of code in the object_tracker.py file to allow only certain classes to be tracked.\n",
        "\n",
        "See what classes are available in pre-trained model: [COCO CLASSES](http://cocodataset.org/#explore)\n",
        "\n",
        "To pick which classes to track, open object_tracker.py file by double clicking on it in the Files section of your notebook.\n",
        "\n",
        "![image.png](data:image/png;base64,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)\n",
        "\n",
        "Scroll down to lines 160-163. Comment out line 160 and uncomment line 163, changing the list by adding any of the class names to the list in a comma separated fashion.\n",
        "\n",
        "Below example would only allow object tracking of 'person's and 'car's.\n",
        "\n",
        "![image.png](data:image/png;base64,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)\n",
        " \n",
        "For the example I will show you, I have only allowed the class 'car's.\n",
        "\n",
        "![image.png](data:image/png;base64,iVBORw0KGgoAAAANSUhEUgAAAtgAAABjCAYAAAChQXeaAAAgAElEQVR4Ae1dS44kOXLNS/SNtE9ABxB0idgOYjmVm1rMAdIHI2AGmGUBU7lTtCABtcna9FaYTmUdIpYUjKSRRuPHP+YRGVn5GmhEhjvNaPbskXzOYEXcufjf+Xx21/7/t99+29ynxZbytNj/6U9/2hz3tTFGf9fnNTAH5uAAOAAOgAPvmQMWjfSe894z9jsI7PWTAAT2esz2JC18AX9wABwAB8ABcOByHIDAtmMLgb1h5x4C2048TIzAEBwAB8ABcAAcuE0OQGDb6wKBDYGN4y4bOIBFwT75AENgCA6AA+DAbXIAAtteFwjsDeLqbXewX9z0+c4dv9mLv2RiO0137v7Ly0oRHmK8O945//90Wmnfyu3kjuzveO+m31ttLnTt98ndp76P7qQ48/LlPuRJbXbJda88ZjCbyWsJP7ptLulb4d+N4YLtaFzcXZuHF8znOhhKPqp5hflSjR9pc+Vx/+7x3msegZ/rjI/bwhkC216PhsB+do+Hgzt8enKvaoJ5ng7uQPfS/w/u6UcO4vXrg7j36J6VvSappYAWW4rDYr+LwKYF5fPkXs5n5wVatbBkXEvcbl9g+3xibmXsvZzWXKcFt7PQfju6u4v1e3ZnLwJqgc05rqvjmpytbQeY0RidyYvz2/R6Sd8z88umeBf6hMBez0mPWW+e8zwZPaDOcHhh3S7JCfhezwlgdruYWTQS6hrqWgrs74/ucHh0TySUOwL78XuHENGWRbUX2w0fEnhLAS22FIPFfjeBHRcbEmbLd4lvX2Bv2/Xu8KpaOAcLLQR255OCAWaE7yVF8CV9V9xYyiG0k/Pwdf62zlszHAYXOmMfXL8Ov38+nC0aCZgHPgiB/eweoyDuiWPawW4L7Ff39OngHr6+ikFOO+HlDrcG3VJAiy3FYbG3CWx1fCIdPaCPnPu7oxk7XqhowYlHMIRda/e4dS370xNDHV8p/mW/6mNev8gF+9Im9+FjSXHLneh6AW0L9bpdEIiMhXxdgifHVubVPOoxIxZ9bq0dOt6d47y5Tc/fqgeFBXGfG5hJQdKLQ7Zp/q250sC761vZVp88qLz0fcKI8TxqHirfjHfKYcZ3asfcEK9FLXW+1C9xWvrXbYSvUT/VvSW+Zb9yNzjafomYTScXduDlUbMLYuZzCbG1jrZxLFTP3rxxHnC4nFP2wntrnWDXX1uAzXvCxqKR3lOel4xVCOxM/q0CuxTfQXSX13IflJSlgBZba982gR0woEUhLCZhYWstPO3C80KYxalfoFhEeAGQ753PoX1/4SprUvg6n/1CnG21L7loqsU9iR8Ry++TO4rz3H5hTMKJ7EXbqm+Os26XcFolTNlfeD1NcmGWeYl2XbEY2rQFtvYV3gdMO7msyGNR3ANx4rGbySvhW4i+yEPmXXFvHrOXL0dxjl7zSvNO+EtireSKjLHk8Frfuq/O+yZmEZPE47pvGee6v+d997kQbWms+biDkJV8vRhmsT/5MBT+luMtYEwx5LlG4z4YKzMbDOtw1v3iPfD7mBywaizw5uxWC+x8/rrcsdai3L8/9Ha8A2EtBbTYUuEt9vsK7M7C0RMsUTAXgtzv5uUFq1iomkKgM2E02la+kiAOPuQiHQbUClFR9FfjUPSd8KjbpYG8Qpgmm+S3xKTZdxFv2Z781VjEawqzc4qTsIpCUfhu+ZmLl+83476EwFac4/6rV5FXdU9gr3OmPPrn6YkDPTFG9/JY8H0mvEPNxr7rujbjbuYVuC/Hps6r6Uvg0L+/3nfmgrAVcefYroFZqJnERuea423VgOzrhyqyKX222+m+8L6FMa6BF5kDFo0EHAOOqwR2CVr4x5D5WEjYsWYB/vD12T19whGREjM+7yqPMeS/+7s3mfS8I10sKmLR9P0JQUGL6DK/HFspTopFz4uqHG/alSp2McNi3u4z3Et2fpeb+6sXxqLvJELqdgljkXe6luwkho2/G7lVOWicle8sWLL/1rUssMNOLdWSdnSPU9jVXVWzJXFfQGD7vPSDg8LD16CHmb+uuNTgEXOl4Dv1U9gzh/R14b+IteRh5buVh77WzEsI2di+WX/ta9H7Bb67XBC2Iu4UW4HlpTCjcavFcB4nxJX2eOc2rXFf1pG5gm93YczwunodWDQWPwauENj2OhsE9tnRmewssHUwJMDH3yRiKaDFlgadxd6+g91e8JZNBsKWJ4NKWPJiRG3rXZ9uP2Lx5TbFolf1o2tO70N8lTiNC2ixK1n0xzFnn0XfnOtILC6KL/vnHFmsSaHV7LuIt/aTBEuKtb2DLcUp/X3/5eSmz0d3ikdoqG8ZS4pT+PXXojCSbZtxjzAjnzN5NftfinXTdxBbkiMt7FK/jTzTPf7kgHetm/3VtUr2M75Tuyb2Qtj7+/XYHOalfQ7fz/hu5JG5IGwFPik2ca2br4yt0de8Xai55Kq2yfG26lXPDzzXjHzqPvC+hS2ugRc1BywaCXgGPLcLbP+tIb0d6rC7PTp/TQWwFNBia+17H4EtjgYUu2s10UuyisVSLOpSrFB7v3h+vnf3xa7gnO9yEfQ+io/ia2FUxkb+Q3w6HmpHC2j+x4OhXf6HnXN9c+ythTbe8wv/igcKFg3ajsRjkbf0r0UVxxUx13hXYqTO8/7L5I7e7uSOn4/uuPShaGnclxDY3mfvmEbGpC3eSwz4ASdzQ9j7Gqn2XDd+9fXiukRe6Tpw2+p1xnfVfsQFPTY7nOj59Nd5XGgez/geckHY+nYBqySw45jt47+yHs385nFeL7Ajvvxw1exXx4739ZwNTIBJzQGrxgKmxRns8ogHH/XIX9cXRHO6rnenveDm78juCe+yiJYCWmyp8BZ7u8CmxSYuoEt3AtPiwQtw/ii3JWZZtKze3Yni0n/cOp28UC/9h4Uyfxyrd1tDfKVNrHsUm2x7/EI/4MLC6Oz80Qn+x5Hxmw6SHxkXt2EMEza84DI2wrdo0xr4Xvyz38+Tm8Q/uOIHDY47vLLvuh7+vhR4Ku+UE8UU8+I6hTjYdzle1sbNvsu4s3Ab5zXfd/hmB8aaXnPcc77L+0c30Y/1JMxqjrUwy3nlnAJGdU2y/YzvGZ6UcXPunHfol2tJsfj2Ka8lmHLs7ZxGvvscFnE1BTbFxf1yTvLhyYZZqEnwIeOX13MtQ/+pXgvGfVWTVRsWS2qCNqFWwOEj4WDRSB8Jp1GuzR3skcGe9ywFtNhSDhZ7u8C+wkQlFtI9awZfV6jdjMhDDVADcAAcAAfAgUtywKKRLhnXe/INgb1BzNy+wA67UWkXaEOO74nEiBULDTgADoAD4AA4sB8HILDtWEJgbxCftyuwxce8qz6WthMJExswBAfAAXAAHAAHfg4OQGDb6wiB/VMJbDshMDkCQ3AAHAAHwAFw4GNzAALbXn8IbAhs8fP2dkJhUgaG4AA4AA6AA+DA++YABLa9fhDYENgQ2Bs4gMXDPvkAQ2AIDoAD4MBtcgAC214XCOwN4up2z2DbCYHJDhiCA+AAOAAOgAMfmwMQ2Pb6Q2BDYGMHewMHsPjYJx9gCAzBAXAAHLhNDkBg2+sCgb1BXGEH2048TKrAEBwAB8ABcAAcuE0OQGDb6wKB/Q4FdvHLZY2v45O/6Pam34W964/dyF+T079yZx8I73WSX1Jr5kv9K3p74SZ+KXDheOKYql+9XGj/Xut1q3HfSj18HGpOo2ujeYzGwOW4vdcYgZ9b5T7ianMTAruNyxq+NAR2/En0T0/utbXY/XhyD4fOT6Kv/Ll0SwEttgSQxX6XHWwSn/EnfVuLypIiztnRwjNamJb0YWqzq8BmspPQhsDWdRnV2vPkuE2EjPxyDNQm/8w512nZ6xyHuQ+8LsPTitOb1sP/LDr/7LzMt/cz67GNn2cwJ1hrD3vJOfxt0UjgUuBPKbC9QH50T18f3KElsP39B/f0o0E+L7zzvVfycXh0zy2RHq9ZCmixpeJb7HcT2HGnhha1LUJ4bjFcIo4uOhAgsK92vv1StZ712xVFjTmiMRfMcfii/GzE89H7e7t6LBHRLfEdeUY8jBsWH72GyH/Z3AOcxjhZNBKwDdgKgf3sHqOo9uK4Etiv7ulTFtAawOfp4A7TsxAUYSf88Xu/iJYCWmwpdou9TWCLX1s83jn/EXl6zQuIX+jS9fbuzNxi2BNHdD33m3232+uP/+VRjcYOuRdc0n/OSXOm9b7Mu7Xr2t/BLm1zXqEfjbuOq8xLL9alb20757s/BloYbLnWrp3MSeMRYirzynjr64kvxcf3mhs6T9n/XVMA+X4Kn+xD2eo2imflA6qhHuR3OjmZf+n7XNy7k5+meNvJTZ+J//du+ja5exrDUvgVcdc1kf0S5kuPPng72c85ximvFX23fbfrQbUoY634Vvgu2xKf5/Jq98tcCK9Vn8UD0hwXS19bxhhsgOFH4oBFI30knEa5CoGdB09TYPsd6ri7zUdEkggn8X1wWUyH94fDwT18fRWiO/dBQVkKaLG19m0T2AEDWlDCwt1YGH6f3PHLS8LNLz5yoYwLy9yi1FqQtC///hgEY9ufjC/8nQVHEEFJBOiPalfuYMtY+qStF3vfdgazdm6Zjy2sUgxePGRR7X2Jesz5Tn4KQZD73uP+MP5zH7P7WPteDEO/w/oGbmSutPPtYXeaMt5nH78UhJ18Fo6LXq7+OgtFFvSq9ucRz6ItjQfC7c5jK2LV46Phe64e3di173OIIeN/ckfOiXDSfQ+xEznEdgUvdN/a95AnxAs5x7R5kmojxp3Goscl3Q7vBxjH+gIjYGTVWODQ2S0X2PF8dRbMUUT7XesssP1OdhTWXqgXu9olaS0FtNhS4S32+wrsevGqiNlZoOYWlGIR9BMn9SWFCtVDLG60MMZFONuK+CgOtcDJGLJNrHMn7iq/bmwlX4KdiGe0GKi+fZwDMUmxFzuNwjfdSw8RKda8Szfnu51vyC3Yyh3/8HfZXwuH8lqFvYg/CNQcb4rHY6RzW+GX+KL4wL59Xp173IZefTsp/Iq4cyxlfoHHWTzmdsnnoNay/+rvKqcZvkmeCdscb7anXMuYxdijvBfUo4pX4JX7JDyoX/mQUmLU40S7HjkH7l/2Zc+r9s/9FK8Sa5F3aiPwT9da7XAtbd4AJz0u8J45YdFI7OOjv64T2GnHOpKQRLe/1t6xJrGdBXlNXEsBLbZUdIu9SWDHRTR95J6OgcjjFmHhLdvUi2V7Mcw4y0UwEL21kIlFnmLzooh2u45xx0ss1LSAiXjT35UojzHMLYhyofNtGyJQtvF/t3Kg/uYxIzw45lLo1PZZ4Lb8kp8y1rHvXJNLTTh1rWWfPcx4JzPi0hDEI7+efw0bytHjsUA4dznc4FpRs2Ic1WNjcz0qkaaxa/Eh9i9sM27ZXsbEPKTXzLX5egz5I/r3O9QK/7r/ksPku12PnAP3n/Pj3fo8tji3xXmZx37k+pr5pppX5HjB31xnvH5cLlg0EngTeLNcYMcjIsU/WkwC++zqM9h5V7sHtqWAFluKx2JvEth+YleiVu00+YVQCpfOwtFeDPOEIBfBUANaKNWCXnz8TveP7vTt6Hfa/Mf01DfHIhfwxgJV9deJu82HehFf024pZhKHQrDJfHzcjJOolWzT/Ttg3PWt7HwNGw8thThRNi1cKuwLm2XYVhhWxwwyt3wMAz7McZNzaLYr8A99jvILGNYie1GtC5yiwGW++3sldhVGkuMCjxxvts/XFI46hvi+6qvTjrGUu9JkKzlUY5TjyvbbBfZSvlNfdV7tWGRc/m+JdQsLgX9l22qPa9jJBge6HLBoJIy/MMcvF9jnIJjzjrR6H4+QpHPY/j2+RaRNNBJtcfeIFo1iQde7f7xjVguIpjgRE0ZrQdeLm/eR+qeF7uimL0c3/R4WW9rJ5mMjYQGXO+2lUKh90a5WHXcbk9bCW/oPdu3F2OeVduz6mAUf4X5fFFAfWaDU4qQVF1+b883t9n1t1Trj3MYs3w+xlPXrX0t2I8Hj72UMk43gJ13zfaa6RUy8rdhdJeF07POud5449LmyHpVIK7Eb8kzY5noIe5+HyEthoTFq1YOPkfSO5lC/x28nd0xjul1Hn4f6FKZbj+IhPNZM1sOcV6iRfCDQWPj3At/W/SaXZjBu+cG1OA6BXVd8fgSOQGDbx4EQ2PmYB/3jxPR/cSwkfkd2vJ/FdgwkiuxgOxbXRFBLAS221r7tO9hq0VWLYVpE487m8Qt9GwEL1bAY8cew6TWJFPJdf1wrxWRYXLkN+6UaRt8cTxRJ0pZFdupXCNFk7/snIUGxSP/zhC1jEwLNL+IcM78KsRJj5bhmMUt4UUw1ZmXOWVSw/yxwGvUofM/nvH2yruOm+FLsM5h5QVJwpVUrlV+RW7iX+tMLsqrJEDOKQ/guePB5cpP8TvcqL8ED5rDMS/idxboScYSx8K9yKngmbCn+gIuyr2LPmC+qB/fPY7SDeV2Tkiv3XyaRl6oxYydxk3FPJ78LXfQh73v7dXk1HyZUbhnT1pgKOcyKdOVzlg9o/6FF5kfmh1VjfWTsOHchsFuT1mWvWQposaXkLfZ2gX1ZXLm4eAXOF+eAF1ZZTF28Pwien1TwhAeArkD2DxYDnhEPew8d4MxPyhnM75ecby0a6ZJxvSffENgbJl8IbExs72mQXzpWv9ssdzs3jKlLxwj/72DMdh/Wlohv8SkD+AdBDQ6YOQCBbZ8zIbA3DEQI7PXEKz7y54+g0+tgZ2pDfSCm1tfHhtk7+Xiej1ck3vFRo/BaHHkA78wL9BZOtc5R07VRbWhu6e58o45vUscttYfNteftcX8Q2GN8lvAVAnvDBAyBbSfeEnKiDXAGB8ABcAAcAAeuzwEIbDvmENgQ2Njh2MABTPj2yQcYAkNwABwAB26TAxDY9rpAYG8QV9jBthMPkyowBAfAAXAAHAAHbpMDENj2ukBgQ2BjB3sDB7Ao2CcfYAgMwQFwABy4TQ5AYNvrAoG9QVxhB9tOPEyqwBAcAAfAAXAAHLhNDkBg2+sCgQ2BjR3sDRzAomCffIAhMAQHwAFw4DY5AIFtrwsE9gZxhR1sO/EwqQJDcAAcAAfAAXDgNjkAgW2vS0Ngx59DL34iXXT048k9pJ9Sf3BPP8S989m9fn3wP7P++L283hpElgJabCkWiz0E9nxtW/XGNeAGDoAD4AA4AA7cPgcsGgn1DfUtBfb3R3c4PLonEsktge3v16I6gPnqnj4d3MPXJ/d4ODgI7NsfQBgEqBE4AA6AA+AAOAAOaA5AYNs5IQT2s3uMotrvQlcCmwR0T1yHnesgqsMOOAS2vTia8HgPTMEBcAAcAAfAAXDg0hyAwLZzTAjs7KwpsP3RkLi7zUdEKhFOPiCwL018+M9cBRbAAhwAB8ABcAAc2JcDENh2PJcLbH88hI6AvMZvnQhHQg7Ts/oWCghsDHQ7MYEhMAQHwAFwABwAB96GAxDYdtzXCWy9Y02iW1/DDrZ64LAXCRMMMAQHwAFwABwAB8CBa3EAAtvOteUCOx4ReZZfaweBDTEt+YC/wQdwABwAB8ABcODdcwAC+5oC+8zfElIeEclHRjgYHBG51hMm+mHO4RVcAAfAAXAAHAAH9uIABLadS2IHO56p5n/AyK/FEZAgng/xXiGu4xltvsevo28TsRTQYksEtNjje7DtxNtrEoAf1AIcAAfAAXAAHNiXAxaNhFqEWgiBvW9xlgBsKaDFlmKz2ENgX58rS/iENqgLOAAOgAPgADhg54BFIwH/gD8E9oazYhDY9sGLAQgMwQFwABwAB8CB2+QABLa9LhDYENjv/h9jYIK2TwTAEBiCA+AAOAAOMAcgsO1cgMCGwIbA3sABnoTwap+EgCEwBAfAAXDgtjgAgW2vBwT2BnGFIyJ24mEyBYbgADgADoAD4MBtcgAC214XCGwIbOxgb+AAFgX75AMMgSE4AA6AA7fJAQhse10gsDeIK+xg24mHSRUYggPgADgADoADt8kBCGx7XSCwIbCxg72BA1gU7JMPMASG4AA4AA7cJgcgsO11gcDeIK6wg20nHiZVYAgOgAPgADgADtwmByCw7XWBwIbAfic72Cd3PN65O///vZt+V+T/fXL36f7RnTbUda+J/jTdufsvL/vgekN57YVP5efb0d19ntzLG9asiukdxkK8C+Ojz7+XL/e+zfGbGj8XzNf3OZ02joeZcX/BuH8GTlwsB56XNtf1evzbAwPP4beeo2ieTGtcYw3ceSyYBTZzxMf8tmvyWg7QXLrHHNkQ2PHn0IufSBeD4ceTe+CfUT88uKcf+d7zdHD8E+mHnr0ggaWAFlsC22K/yw42kS8OWNsClPFfS6Je+10Foqh3r79112nBHUwuflC/7WC+CH43kNe6Oi3kpc9rUM/d+bMwrrfqd4eHjRH/3p/A5nrNjPtL1WuHelxk3Mzle+n5wvu/c3fXFtiXzquD69sL7PCguYfoW8pHi0Yq+nijmhUxdOrabeNjtq9LpcD+/ugOh0f39PXBNQWyv1+K6hQg3Zue4y7Fq3v6dBDveZIsXy0FtNhSzBb73QR2nJxo8O6247mWSI32owU61bthd517MwvtDQzmi+B3A3ntX98XN33u77bu3185/9yk/x0E3UX4Zxjv+2wgzIx7Q3xDHuxQj6H/S8X9U84XZ3d+o7zeXGC/Qd4WjVRw/g1iL/rfOsZ2GPtCYD+7x7jr/NoU2CSaO+K6kUDbR7nAWQposSXwLfY2gR1ERf6oJ3+se3dcsfNKxU8fF0mRUi9EesH1k4Ww5adifT35l7sUfrCImNM9yuveTV9iXNPJUb/kg/3Pkz48pTf7TRyr8yv8dgez8p0+7gv1qGMs+ymx0XWqa7rugUnba/+jhUXlleoRx1qXJ+F+mZeulYprpe+iLql+Yg7oTmAl9uSn4DDZTScnY6/wHuW9mcMU19FN8ZjF/ZeTf0C4Kz5RGWA2ilvHlMZngwstLMW1Aqt0XfJE78xQzHRNttH9yntyvhH1TH2V13ydxHxQzwlLfFMbHXfoh+eZMG/kNm0cQn3q8V7GHIScmOea9SjjXn/MSXFFzP+MWRpD1bzW61tdT3FnXHg8pXlW4uo5OmVef4tH79J8GcYi2+pxJ8cktyl3uVXOek7pcOh8ns+L6y1jKOusfFR9q9h0PRoYZP/KVvpOtRP9C1+pxt3cz+7s5zM9JiNn9dyxU99eI418j+YzmUvKX4yxVj6ta9JP9bfAk3heYKrq0bhHtctzRzk+Qk2Cj1xjEX8VS/ueENi5QVMc+6MhcXebj4gMjoE0faigLCLXYkvgWextAjvgTJNAmJw2FNETsUUI8k2kK+/xxONJ0yK7qkvRvrgXCJ0JF97LPDzJ46Ck69VCUfjLnKPYTpOcQHRf3LbOLwyGeL+ZX8A4LwZx8MWJqJ2v6EcNfJ+TGLB+kIpJre2P49evZSxFLhKrZl5zmIkcpC/+u+OTYyjz0hjO+OY+Bq99nGrfRVtfD/HxtKpPWIzKMcA58UK9jcMUV+w3xsCTNHNriNlc3IQVtRHcynFr3vTfF1hV+NfYns+Rg2ne0LXW7wMOGcN+LBQ/Cx7GqBQLS3234o6+BV6hrzCPtOee0N/S2Pv10HGH96WYHOEybl/FrsbquMajB/IxZqE24UHbc9mLzDb2szH4tUjO6VHQpLlSYzjCK95TOMjxEeLN84LHUHBjvL4sqEf05fsRfikGf62Xl4+ZHtZ4Tlo+fgKfGw96qS/tK7xPY83Q92+//Yef7/JYUb6XzGc0/zRrpuPWGM5xQcWi5rmXL0fx77Q0z2Ktj3mjoKxf7rsah6ofyb/W38sFtj8ecnAPX1/nj4HEc9qP33Ogrc4tItdiS7FY7PcV2EQUHnhjvAKGmizapvZH5NEDLg8abR+IntoLQukJy8eTBEGIy/sVA8pC0CLuFEedX8Et0Xe67ieCcqKXg55iDPm2c6A4SrxEDI3+2nHXOCf8xE5JijnlG+0a/bTaln1TnKL2TZ86N46TbBVmqdbUZsa37qt6L7Cu7gl8470iryIOjoXH0Hh82Dgs4hIx5NhmMBM2oXbCH2NQteF6LH/N8bRsGn1GgS05Xoxb4p4SFMV9jr3zWrelGCLvFvtuxS38pL4FrwjLKEQyJi0/LZzitV496LoeHwvH6JJxX2GmfFM+wwcx1T7PFQswE0IyzIttzDKmbfzovuRUmDNGc0rbT469J9aCXYVJF4PcPq1zrXomTuWHkqmJO+EzyMvHUWIxh12RM8XRic/zRI3N4qHQ0Pd//uVfao7J8SD/9li1eSLXWplXyfGOrahBZavz7rQlu7KvMEfw3OD9VrlELvauD/qSca4T2HrHmkS3vnYO/0gyC/H+oLGIXIstAWCxNwnsSPj08Vn6CG8ghIpiEhHLwSoLOruDTb6INNxvg6S9wV+SVBNQLGxiYmvaFPkIfsi4YnxpAkw2MwNR9J1waQ0S2Y7u00L8++SO09Ed6RtA6L7HJg5Gxiu9RkEn/cQYe/ileFIueeKe/QaNRj/e3xxm3o53QNQiQHFIe8mFwo7t1aJetGn4FnnWuY94XNe4wLSqp2w/8qsn2rUcFv2IGFJsBR4NzIRNwEP4Y6yqNmJ8cJuZ1xRPs12jzzmBTTEl3ou80i7aOMZ6DhBzxWLfrbhb14Rvqofn9CmMax8v2azgaq8ereu+/st8e0zkeFO1qjCrfJfzUilkR0J0BjORV+ZRy6a/EZPmJc2PufGhMKjnjFFeM/GQ7wbXeH1ZVI/emjSXV1W78Xhp5u1jr7lV8YTzZG4Z+vYCW9dQ8KMQ8r52bZ70BHZxnfzqvgZ8IG4O27dqkvyLOWLQh6+DAT+yXy6w4xGRZxlQJbDjN5Ckf+w4JpJF5FpsKXGLvUlge/xEgVcXUNjKWqS/a5LnibKuhycqD8boo9e+NQnlayIukVNzAkixinjigJALRTuOOr9iQhJ9p+utyUleI5vPk4VMwfoAAA0JSURBVDt9uXfHby9umib3kga8yKsbdznxteMWuUo/1I/CP8Ut27XyWoxZ6NvXYiAuCi60+pPxqL/nfNc5jXCta1xgWmEm24/8th9olnNY9CNiSLHNYSZsAh7CH+NZtenwhts3XlM8jXutB3A+IiLHXjFujTEVvnxMIu/FvoVNyouu6c0GeY3+PrrTt6P/hMofEaAaLRlv3EcvPrqux1LrGvvRrz2/sV2F2Yhb/p7Codte4sPcEtdEXJlHdJ8/IWKbkaCNuOucuzFln/U8oe4NfOR4lQ3F0cCoaC/ybsWQ5oiGn0Io6pxT3+Ua0epjeK3DrRSX6Le4NsBr2N/57LzAVmOl8F1h1uZJH588V1Mt5PwzF5uPIwlmXe/AZ354Il9l+9zvXD/1Q4Tua/x+ucA+h28GyTvT+v06cU2JWUSuxdba9z4CW+yAKhLPFd2TRU/uaYAFcjFZQ9v+7ri/r/pvXfMxVZOL7EuQVgxq76s7EAQ5vY2YxP2E0oq7M4g5f9F3xlEPuBBrGoBk83lyUzwDfpru3XHiYyNxcO6Ed46Jc9ex8XX12sprMWbRV2eS5pjKugeMhrsEjDm9zvjmPuRrscBJX/H4SZfDMxO7z6NXL4+ZnMzXcFhwT8SQ85jBTNgEHIQ/zl/XlK+veM3xKA55H40+53awjceB9BxQ8izgn8ZiN89W3EHkyQfU2jf9o9RwHpPu0SdUizlNsXTroeNWc0o3D66Jtufr4bXOgz456Im04IvHS+aW5Hn2T/zoYiY4mnnUx76uW8ChjIX7nhkfs5iRn1auwX+Ol/sTr7qOlGdxfG5FPbytWKv43zD01jnfd692IsZR/r7Phg/vW9ZZ4WPo+7f/+uR/WyLXUvkWXMmck7jE3EYxeB/36x5607iUeUscVZwRozzuRxyVfrQwL+/Jtaz3txDY8av1+B8w8mtxBCSK6Hgvi+2z8/+okW3E6+gctkUkW2wJDIu9XWATASIRK5IuK6KfgMXHtsVE5wdj/Cg3/ut9vq/t2pN2nAjZv5w4mKzVx2WCtGJA+f6k/WAS8RM/9+kFrxDYMiduwxjyE2q6zh9jywkpDLr0UXcRU7zH12JfeWJhkc1+ywWq+OgxfrsF490beOV1FZtYSOt6lQvtOszKya/2LfEiHioeyAWpqkfpu8yvw2nvQ/cZ20r/isP1roIYT5FfOreiHps5LPqh+OKDabmwz2BWPMwKf2JclLF38BHtA9aaQ4GrKW+JZxonXDMxdiV+PB78tdq/HB+jepf5qLEz53sYd+BKMQbE2En8Zcxj3RMmFYZtnpbxy3ooTAq82r5KnJR9K3Zfq3s3+W/z4L61nZgnZU4FdlzrGcyavKb+2L7uWwrVEiueLzlu6nswPmTso787eZXjsMa/4IleX3x/Orcct8+LeSTWm8ylQV5iPSzrX8fYve9zzvEU7brzGT8gduxGGLNGGvkWXAnxSJ401kzPZR1LwDzjuAITFRvPxxRLycP4zU9pfNbzXYFnwmVpu37MQmD3G7U7t7e3iFyLLeVjsbcLbDt2l6oJ/KI21+NAmMA2Ta5pEkS9rlcvYA2swYGPwgGLRlqOUSnKl9tdgYfVA8T6PiGwNyzUENjriXZTA2dDzRH/hWrudyF4d+xCfaDeG3+mHPXAuAcHPioHriGw/acKaWf5hri207oEgb1h8YXAvqGBsKF+H3XCvNm8d9gpuNncwE+Ie3AAHHiHHLikwE7HdcSxm1uawym+pUfgRnFDYG8gPgQ2BPZoUOEe+AEOgAPgADjwnjlwSYH9nnFZEzsENgQ2dhc2cGDNIENbLLTgADgADoAD74kDENh2vkJgbxBX2MG2E+89TTSIFfUGB8ABcAAc+EgcgMC28x0CGwIbO9gbOPCRJlrkap9ogSEwBAfAgffEAQhsO18hsDeIK+xg24n3niYaxIp6gwPgADgADnwkDkBg2/kOgQ2BjR3sDRz4SBMtcrVPtMAQGIID4MB74gAEtp2vENgbxNXFd7D/d3L3d3fuzv+vf/no7F7+fB/v3bm7P5zeUCC/uOlf79zxVzsRaeI5/YFzvnP3f355w7z2yWe3yfTXY6733b2b/lfH99/uH7/84v7+t9frY/Y/D+4vv/yb+/WfOqaynm/L0zq23WqzYf5A36gHOAAO3DoHILDtHG0I7Phz6MVPpIuOfjy5h/RT6A/u6Ue8V1w/uEPPXixIlgJabInYFvuLC2zGyAvtWmDzwPRC+ycS2JwXCW0IbDHmSGD/6+RemBfV620KbK7n2/NUYFlhh3tcJ7yCC+AAOMAcsGgk9vHRX0uB/f3RHQ6P7unrQ1sg+/tCVA8Wq+fp4A7T83BHzVJAiy0V3WIPgc2T0L472DwYIbAZ3/i6UGD/43+U3WB8MtbmV7+D/eC+D/qCwH6DugzqYa45fA/XNeALvv8MHLBopJ8h/z1yEAL72T3GXefXpsB+dU+flolrCsz7gMDuT8TFx/6dYxZbd7CLIybiGElHqJUCKIjmcDxF2KZF9eSO6fhKONKx7oiIsm/szHYF9gxmPg8RWxmXyutOfzJQxqV30Me+L7ygdOq2bAJ4db/++y/uL7/w/6UY/r+//Zu4Vx71+P7HcOxEttki4kt+XRirxFP0s4wfwAk4gQPgQM0BCOwak7U8EQI7O2sKbH8EJO5u8xGR7jEQEuMH9/g9+2wFZimgxZZisdjbd7BP7iiPdnjhqAXf2Z03CewgFLO4DO+9YOz4kwLIn4NOsQVRmsVm+33ua1zv81nEMhBCbYE9g1knN+adzJGv5Vedl8Jwxnf2M5f/xvubBXYU13/87/aD3j//6v4hzm17If3vf3X/F2tDAtsL82iv7y/Ne4z9RkwG/FkaF9oBe3AAHAAH2hywaCRgGjBdLrD98ZCDe/jK/5AqiOjiGEhscyAB3hXfuZiWAlpsqfgWe7vAzhgEIpKga/zjtRlh1xIu/preFU4CjfqJQj5dC/8YLYhocZ8FjGh3ln/7+0GYLhXYzdi4H/HaFtgzmHmsOp8EnPkfhjYeYqhfslWYFdjO+B5OJtE2fSLAO+zpIUbn1Xhf4d5oI/BL8Sw4vpHakv0//+r+/kve4fYCWwhufb+wbfUfrxVYDtot9Yd2C+sPrNsPlsAFuIADsxywaCTM0WGOXiewtWgmQa2vMXG92H50z/y+8WopoMWWim+x30Ng+51iFlv+dUeBrcVbEmgkiEM/pz8c3fEPQXBSLF4k98Qgi8/khxf4dQLb56xja/CiJ7BnMaP4GFOOWfiX9nlX/uz8gwPbyVcZ64zvi04oFe6M//h1fsdZHx+hHetSYO/xzSQQ2OM6XZQ7gv/oB3UAB8CBpRywaKSlffzs7ZYL7HhEpBDMI4F9pm8jGZ/ZthTQYktFtdhbBbYXHLyT7BfAy+5g+/6i4CSRefz15I70/tejO/6aRffckZRddrClaO0s/i2BvRiz6NOL6YbIDgOa8BbfVLJSwI59qwm899CyAIc0+ayML9nRDrbcgVZ4z+1Q8xns5E/ZL70Oga04sRHHpXijHfAGB8ABKwcsGsna989iv1xgn8OREH1EJL8vCd08x60WFksBLbZUPIv9LgJbiD8v2HY6IhJEsjwqEcQkH+Ogvo5/ntyRvmeaxB/tZCexH3aku99Z7MVi3mkPccu+Sg5UgySKTY6luh/5QX6LHWY+4rEEs+hDPlTU/YQ8cx9KcCueavux7xkMZnzrvvz7rQL7PP76Pi+w0/ls3s3GDnazBlvqBpvZj6GB9QXmC/AOvNuBAxaNhHEdxrUQ2PFMNf8DRn4tjoDE78iO9wpxLc9f4wz2zAAPgo6PM9yT4BUCO+zW5h9dCe34/HAUwfIoA/0td0TVrmkWknwWmUVy9CWE6/lc+6/tQ2x03Qv2NT80o2LL3+9cYpKx4R+cKe/PY8Z4EdHrnAq8/GRU+qf++UGgrof0fYUFcrPAptiCyG5+i4g/c83fLvKL+8ff6jPYOCJyhfrusBhiQUOdwAFwYE8OQGDb+SQEtt3Z2uJaCmixpTgt9tYd7LU4of31uXlTmJsE9ttj5x9Q5AMgBOXMA/jb1+ym+A++gC/gwNU5YNFImD/CHA6BvWHgQmBDAFx1AoHAvvrictX6bpiDEB/mIHAAHLgkByCw7fyCwN6wuEFg18Srj1HIIy58JKW2u+QE8dP4JoGdjgS9Hyz5jL6PHTvYeEjYMNf+NGMYuYP/74wDENh2vQKBvYH0ENh24mHhBIbgADgADoAD4MBtcgAC214XCGwIbOwsbOAAFgX75AMMgSE4AA6AA7fJAQhse10gsDeIK+xg24mHSRUYggPgADgADoADt8kBCGx7XSCwIbCxg72BA1gU7JMPMASG4AA4AA7cJgcgsO11gcDeIK6wg20nHiZVYAgOgAPgADgADtwmByCw7XWBwIbAxg72Bg5gUbBPPsAQGIID4AA4cJscgMC21+X/AREDs+sqFXNKAAAAAElFTkSuQmCC)\n",
        "\n",
        "Now let's run the object tracker on a different video to test it out."
      ]
    },
    {
      "cell_type": "markdown",
      "metadata": {
        "id": "6mNCSOPMyQuG"
      },
      "source": [
        "끝\n",
        "\n",
        "---\n",
        "\n"
      ]
    },
    {
      "cell_type": "markdown",
      "metadata": {
        "id": "reUFXzD5yPTF"
      },
      "source": [
        "다크넷 깔기"
      ]
    },
    {
      "cell_type": "code",
      "metadata": {
        "id": "lkC6iZ6byO6x"
      },
      "source": [
        "# clone darknet repo\n",
        "!git clone https://github.com/AlexeyAB/darknet\n",
        "%cd darknet\n",
        "!sed -i 's/OPENCV=0/OPENCV=1/' Makefile\n",
        "!sed -i 's/GPU=0/GPU=1/' Makefile\n",
        "!sed -i 's/CUDNN=0/CUDNN=1/' Makefile\n",
        "!sed -i 's/CUDNN_HALF=0/CUDNN_HALF=1/' Makefile\n",
        "!sed -i 's/LIBSO=0/LIBSO=1/' Makefile\n",
        "!make"
      ],
      "execution_count": null,
      "outputs": []
    },
    {
      "cell_type": "code",
      "metadata": {
        "id": "jshmOBF0yOwk"
      },
      "source": [
        "!wget https://github.com/AlexeyAB/darknet/releases/download/darknet_yolo_v3_optimal/yolov4.weights"
      ],
      "execution_count": null,
      "outputs": []
    },
    {
      "cell_type": "code",
      "metadata": {
        "id": "dB4YT1cbyhQ7"
      },
      "source": [
        "# import darknet functions to perform object detections\n",
        "from darknet import *\n",
        "# load in our YOLOv4 architecture network\n",
        "network, class_names, class_colors = load_network(\"cfg/yolov4.cfg\", \"cfg/coco.data\", \"yolov4.weights\")\n",
        "width = network_width(network)\n",
        "height = network_height(network)\n",
        "\n",
        "# darknet helper function to run detection on image\n",
        "def darknet_helper(img, width, height):\n",
        "  darknet_image = make_image(width, height, 3)\n",
        "  img_rgb = cv2.cvtColor(img, cv2.COLOR_BGR2RGB)\n",
        "  img_resized = cv2.resize(img_rgb, (width, height),\n",
        "                              interpolation=cv2.INTER_LINEAR)\n",
        "  # get image ratios to convert bounding boxes to proper size\n",
        "  img_height, img_width, _ = img.shape\n",
        "  width_ratio = img_width/width\n",
        "  height_ratio = img_height/height\n",
        "  # run model on darknet style image to get detections\n",
        "  copy_image_from_bytes(darknet_image, img_resized.tobytes())\n",
        "  detections = detect_image(network, class_names, darknet_image)\n",
        "  free_image(darknet_image)\n",
        "  return detections, width_ratio, height_ratio"
      ],
      "execution_count": null,
      "outputs": []
    },
    {
      "cell_type": "code",
      "metadata": {
        "id": "HmfJCpxMueRP"
      },
      "source": [
        "# import dependencies\n",
        "from IPython.display import display, Javascript, Image\n",
        "from google.colab.output import eval_js\n",
        "from google.colab.patches import cv2_imshow\n",
        "from base64 import b64decode, b64encode\n",
        "import cv2\n",
        "import numpy as np\n",
        "import PIL\n",
        "import io\n",
        "import html\n",
        "import time\n",
        "import matplotlib.pyplot as plt\n",
        "%matplotlib inline"
      ],
      "execution_count": null,
      "outputs": []
    },
    {
      "cell_type": "code",
      "metadata": {
        "id": "PZvLi_hcykDD"
      },
      "source": [
        "# run test on person.jpg image that comes with repository\n",
        "image = cv2.imread(\"data/person.jpg\")\n",
        "detections, width_ratio, height_ratio = darknet_helper(image, width, height)\n",
        "\n",
        "for label, confidence, bbox in detections:\n",
        "  left, top, right, bottom = bbox2points(bbox)\n",
        "  left, top, right, bottom = int(left * width_ratio), int(top * height_ratio), int(right * width_ratio), int(bottom * height_ratio)\n",
        "  cv2.rectangle(image, (left, top), (right, bottom), class_colors[label], 2)\n",
        "  cv2.putText(image, \"{} [{:.2f}]\".format(label, float(confidence)),\n",
        "                    (left, top - 5), cv2.FONT_HERSHEY_SIMPLEX, 0.5,\n",
        "                    class_colors[label], 2)\n",
        "cv2_imshow(image)"
      ],
      "execution_count": null,
      "outputs": []
    },
    {
      "cell_type": "markdown",
      "metadata": {
        "id": "qyD_T2W-tn4L"
      },
      "source": [
        "# Webcam"
      ]
    },
    {
      "cell_type": "code",
      "metadata": {
        "id": "MVhSJI9vs8vE"
      },
      "source": [
        "# function to convert the JavaScript object into an OpenCV image\n",
        "def js_to_image(js_reply):\n",
        "  \"\"\"\n",
        "  Params:\n",
        "          js_reply: JavaScript object containing image from webcam\n",
        "  Returns:\n",
        "          img: OpenCV BGR image\n",
        "  \"\"\"\n",
        "  # decode base64 image\n",
        "  image_bytes = b64decode(js_reply.split(',')[1])\n",
        "  # convert bytes to numpy array\n",
        "  jpg_as_np = np.frombuffer(image_bytes, dtype=np.uint8)\n",
        "  # decode numpy array into OpenCV BGR image\n",
        "  img = cv2.imdecode(jpg_as_np, flags=1)\n",
        "\n",
        "  return img\n",
        "\n",
        "# function to convert OpenCV Rectangle bounding box image into base64 byte string to be overlayed on video stream\n",
        "def bbox_to_bytes(bbox_array):\n",
        "  \"\"\"\n",
        "  Params:\n",
        "          bbox_array: Numpy array (pixels) containing rectangle to overlay on video stream.\n",
        "  Returns:\n",
        "        bytes: Base64 image byte string\n",
        "  \"\"\"\n",
        "  # convert array into PIL image\n",
        "  bbox_PIL = PIL.Image.fromarray(bbox_array, 'RGBA')\n",
        "  iobuf = io.BytesIO()\n",
        "  # format bbox into png for return\n",
        "  bbox_PIL.save(iobuf, format='png')\n",
        "  # format return string\n",
        "  bbox_bytes = 'data:image/png;base64,{}'.format((str(b64encode(iobuf.getvalue()), 'utf-8')))\n",
        "\n",
        "  return bbox_bytes"
      ],
      "execution_count": null,
      "outputs": []
    },
    {
      "cell_type": "code",
      "metadata": {
        "id": "wBh54ruYtECX"
      },
      "source": [
        "# JavaScript to properly create our live video stream using our webcam as input\n",
        "def video_stream():\n",
        "  js = Javascript('''\n",
        "    var video;\n",
        "    var div = null;\n",
        "    var stream;\n",
        "    var captureCanvas;\n",
        "    var imgElement;\n",
        "    var labelElement;\n",
        "    \n",
        "    var pendingResolve = null;\n",
        "    var shutdown = false;\n",
        "    \n",
        "    function removeDom() {\n",
        "       stream.getVideoTracks()[0].stop();\n",
        "       video.remove();\n",
        "       div.remove();\n",
        "       video = null;\n",
        "       div = null;\n",
        "       stream = null;\n",
        "       imgElement = null;\n",
        "       captureCanvas = null;\n",
        "       labelElement = null;\n",
        "    }\n",
        "    \n",
        "    function onAnimationFrame() {\n",
        "      if (!shutdown) {\n",
        "        window.requestAnimationFrame(onAnimationFrame);\n",
        "      }\n",
        "      if (pendingResolve) {\n",
        "        var result = \"\";\n",
        "        if (!shutdown) {\n",
        "          captureCanvas.getContext('2d').drawImage(video, 0, 0, 640, 480);\n",
        "          result = captureCanvas.toDataURL('image/jpeg', 0.8)\n",
        "        }\n",
        "        var lp = pendingResolve;\n",
        "        pendingResolve = null;\n",
        "        lp(result);\n",
        "      }\n",
        "    }\n",
        "    \n",
        "    async function createDom() {\n",
        "      if (div !== null) {\n",
        "        return stream;\n",
        "      }\n",
        "\n",
        "      div = document.createElement('div');\n",
        "      div.style.border = '2px solid black';\n",
        "      div.style.padding = '3px';\n",
        "      div.style.width = '100%';\n",
        "      div.style.maxWidth = '600px';\n",
        "      document.body.appendChild(div);\n",
        "      \n",
        "      const modelOut = document.createElement('div');\n",
        "      modelOut.innerHTML = \"<span>Status:</span>\";\n",
        "      labelElement = document.createElement('span');\n",
        "      labelElement.innerText = 'No data';\n",
        "      labelElement.style.fontWeight = 'bold';\n",
        "      modelOut.appendChild(labelElement);\n",
        "      div.appendChild(modelOut);\n",
        "           \n",
        "      video = document.createElement('video');\n",
        "      video.style.display = 'block';\n",
        "      video.width = div.clientWidth - 6;\n",
        "      video.setAttribute('playsinline', '');\n",
        "      video.onclick = () => { shutdown = true; };\n",
        "      stream = await navigator.mediaDevices.getUserMedia(\n",
        "          {video: { facingMode: \"environment\"}});\n",
        "      div.appendChild(video);\n",
        "\n",
        "      imgElement = document.createElement('img');\n",
        "      imgElement.style.position = 'absolute';\n",
        "      imgElement.style.zIndex = 1;\n",
        "      imgElement.onclick = () => { shutdown = true; };\n",
        "      div.appendChild(imgElement);\n",
        "      \n",
        "      const instruction = document.createElement('div');\n",
        "      instruction.innerHTML = \n",
        "          '<span style=\"color: red; font-weight: bold;\">' +\n",
        "          'When finished, click here or on the video to stop this demo</span>';\n",
        "      div.appendChild(instruction);\n",
        "      instruction.onclick = () => { shutdown = true; };\n",
        "      \n",
        "      video.srcObject = stream;\n",
        "      await video.play();\n",
        "\n",
        "      captureCanvas = document.createElement('canvas');\n",
        "      captureCanvas.width = 640; //video.videoWidth;\n",
        "      captureCanvas.height = 480; //video.videoHeight;\n",
        "      window.requestAnimationFrame(onAnimationFrame);\n",
        "      \n",
        "      return stream;\n",
        "    }\n",
        "    async function stream_frame(label, imgData) {\n",
        "      if (shutdown) {\n",
        "        removeDom();\n",
        "        shutdown = false;\n",
        "        return '';\n",
        "      }\n",
        "\n",
        "      var preCreate = Date.now();\n",
        "      stream = await createDom();\n",
        "      \n",
        "      var preShow = Date.now();\n",
        "      if (label != \"\") {\n",
        "        labelElement.innerHTML = label;\n",
        "      }\n",
        "            \n",
        "      if (imgData != \"\") {\n",
        "        var videoRect = video.getClientRects()[0];\n",
        "        imgElement.style.top = videoRect.top + \"px\";\n",
        "        imgElement.style.left = videoRect.left + \"px\";\n",
        "        imgElement.style.width = videoRect.width + \"px\";\n",
        "        imgElement.style.height = videoRect.height + \"px\";\n",
        "        imgElement.src = imgData;\n",
        "      }\n",
        "      \n",
        "      var preCapture = Date.now();\n",
        "      var result = await new Promise(function(resolve, reject) {\n",
        "        pendingResolve = resolve;\n",
        "      });\n",
        "      shutdown = false;\n",
        "      \n",
        "      return {'create': preShow - preCreate, \n",
        "              'show': preCapture - preShow, \n",
        "              'capture': Date.now() - preCapture,\n",
        "              'img': result};\n",
        "    }\n",
        "    ''')\n",
        "\n",
        "  display(js)\n",
        "  \n",
        "def video_frame(label, bbox):\n",
        "  data = eval_js('stream_frame(\"{}\", \"{}\")'.format(label, bbox))\n",
        "  return data"
      ],
      "execution_count": null,
      "outputs": []
    },
    {
      "cell_type": "code",
      "metadata": {
        "id": "G4anPR2NtFdU"
      },
      "source": [
        "# start streaming video from webcam\n",
        "video_stream()\n",
        "# label for video\n",
        "label_html = 'Capturing...'\n",
        "# initialze bounding box to empty\n",
        "bbox = ''\n",
        "count = 0 \n",
        "while True:\n",
        "    js_reply = video_frame(label_html, bbox)\n",
        "    if not js_reply:\n",
        "        break\n",
        "\n",
        "    # convert JS response to OpenCV Image\n",
        "    frame = js_to_image(js_reply[\"img\"])\n",
        "\n",
        "    # create transparent overlay for bounding box\n",
        "    bbox_array = np.zeros([480,640,4], dtype=np.uint8)\n",
        "\n",
        "    # call our darknet helper on video frame\n",
        "    detections, width_ratio, height_ratio = darknet_helper(frame, width, height)\n",
        "\n",
        "    # loop through detections and draw them on transparent overlay image\n",
        "    for label, confidence, bbox in detections:\n",
        "      left, top, right, bottom = bbox2points(bbox)\n",
        "      left, top, right, bottom = int(left * width_ratio), int(top * height_ratio), int(right * width_ratio), int(bottom * height_ratio)\n",
        "      bbox_array = cv2.rectangle(bbox_array, (left, top), (right, bottom), class_colors[label], 2)\n",
        "      bbox_array = cv2.putText(bbox_array, \"{} [{:.2f}]\".format(label, float(confidence)),\n",
        "                        (left, top - 5), cv2.FONT_HERSHEY_SIMPLEX, 0.5,\n",
        "                        class_colors[label], 2)\n",
        "\n",
        "    bbox_array[:,:,3] = (bbox_array.max(axis = 2) > 0 ).astype(int) * 255\n",
        "    # convert overlay of bbox into bytes\n",
        "    bbox_bytes = bbox_to_bytes(bbox_array)\n",
        "    # update bbox so next frame gets new overlay\n",
        "    bbox = bbox_bytes"
      ],
      "execution_count": null,
      "outputs": []
    }
  ]
}